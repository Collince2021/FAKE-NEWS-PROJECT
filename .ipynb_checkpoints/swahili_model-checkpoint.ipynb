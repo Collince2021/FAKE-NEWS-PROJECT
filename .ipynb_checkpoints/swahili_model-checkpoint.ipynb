{
 "cells": [
  {
   "cell_type": "code",
   "execution_count": 1,
   "id": "634c8084-ccf3-4fec-9013-552faf43abd5",
   "metadata": {},
   "outputs": [],
   "source": [
    "# Importing necessary libraries\n",
    "import pandas as pd\n",
    "import torch\n",
    "from transformers import AutoTokenizer, AutoModel\n",
    "from sklearn.ensemble import RandomForestClassifier\n",
    "from sklearn.model_selection import train_test_split"
   ]
  },
  {
   "cell_type": "code",
   "execution_count": 2,
   "id": "c5113a04-f85b-4b08-98e0-ef8ee086aab2",
   "metadata": {},
   "outputs": [],
   "source": [
    "df1=pd.read_csv(\"true_Translated_Swahili_updated.csv\")\n",
    "df2=pd.read_csv(\"fake_Translated_Swahili_updated 2.csv\")"
   ]
  },
  {
   "cell_type": "code",
   "execution_count": 3,
   "id": "d7031ed1-d48e-4ad3-b6c0-a107b8f5d787",
   "metadata": {},
   "outputs": [
    {
     "data": {
      "text/html": [
       "<div>\n",
       "<style scoped>\n",
       "    .dataframe tbody tr th:only-of-type {\n",
       "        vertical-align: middle;\n",
       "    }\n",
       "\n",
       "    .dataframe tbody tr th {\n",
       "        vertical-align: top;\n",
       "    }\n",
       "\n",
       "    .dataframe thead th {\n",
       "        text-align: right;\n",
       "    }\n",
       "</style>\n",
       "<table border=\"1\" class=\"dataframe\">\n",
       "  <thead>\n",
       "    <tr style=\"text-align: right;\">\n",
       "      <th></th>\n",
       "      <th>title</th>\n",
       "      <th>text</th>\n",
       "      <th>Label</th>\n",
       "      <th>Unnamed: 3</th>\n",
       "      <th>translated_text</th>\n",
       "    </tr>\n",
       "  </thead>\n",
       "  <tbody>\n",
       "    <tr>\n",
       "      <th>0</th>\n",
       "      <td>As U.S. budget fight looms, Republicans flip t...</td>\n",
       "      <td>WASHINGTON (Reuters) - The head of a conservat...</td>\n",
       "      <td>Real</td>\n",
       "      <td>NaN</td>\n",
       "      <td>MNAMO Julai 11 W.K., mwenyekiti wa kundi la wa...</td>\n",
       "    </tr>\n",
       "    <tr>\n",
       "      <th>1</th>\n",
       "      <td>U.S. military to accept transgender recruits o...</td>\n",
       "      <td>WASHINGTON (Reuters) - Transgender people will...</td>\n",
       "      <td>Real</td>\n",
       "      <td>NaN</td>\n",
       "      <td>ASEPPHingTON (Wasimamizi wa Serikali) - Transg...</td>\n",
       "    </tr>\n",
       "    <tr>\n",
       "      <th>2</th>\n",
       "      <td>Senior U.S. Republican senator: 'Let Mr. Muell...</td>\n",
       "      <td>WASHINGTON (Reuters) - The special counsel inv...</td>\n",
       "      <td>Real</td>\n",
       "      <td>NaN</td>\n",
       "      <td>YEHINGTON (Wasimamizi) - Uchunguzi wa kipekee ...</td>\n",
       "    </tr>\n",
       "    <tr>\n",
       "      <th>3</th>\n",
       "      <td>FBI Russia probe helped by Australian diplomat...</td>\n",
       "      <td>WASHINGTON (Reuters) - Trump campaign adviser ...</td>\n",
       "      <td>Real</td>\n",
       "      <td>NaN</td>\n",
       "      <td>MNAMO Mei 2016, George Papadopoulos, aliyekuwa...</td>\n",
       "    </tr>\n",
       "    <tr>\n",
       "      <th>4</th>\n",
       "      <td>Trump wants Postal Service to charge 'much mor...</td>\n",
       "      <td>SEATTLE/WASHINGTON (Reuters) - President Donal...</td>\n",
       "      <td>Real</td>\n",
       "      <td>NaN</td>\n",
       "      <td>Hata hivyo, kwa miaka mingi serikali ya Mareka...</td>\n",
       "    </tr>\n",
       "  </tbody>\n",
       "</table>\n",
       "</div>"
      ],
      "text/plain": [
       "                                               title  \\\n",
       "0  As U.S. budget fight looms, Republicans flip t...   \n",
       "1  U.S. military to accept transgender recruits o...   \n",
       "2  Senior U.S. Republican senator: 'Let Mr. Muell...   \n",
       "3  FBI Russia probe helped by Australian diplomat...   \n",
       "4  Trump wants Postal Service to charge 'much mor...   \n",
       "\n",
       "                                                text Label  Unnamed: 3  \\\n",
       "0  WASHINGTON (Reuters) - The head of a conservat...  Real         NaN   \n",
       "1  WASHINGTON (Reuters) - Transgender people will...  Real         NaN   \n",
       "2  WASHINGTON (Reuters) - The special counsel inv...  Real         NaN   \n",
       "3  WASHINGTON (Reuters) - Trump campaign adviser ...  Real         NaN   \n",
       "4  SEATTLE/WASHINGTON (Reuters) - President Donal...  Real         NaN   \n",
       "\n",
       "                                     translated_text  \n",
       "0  MNAMO Julai 11 W.K., mwenyekiti wa kundi la wa...  \n",
       "1  ASEPPHingTON (Wasimamizi wa Serikali) - Transg...  \n",
       "2  YEHINGTON (Wasimamizi) - Uchunguzi wa kipekee ...  \n",
       "3  MNAMO Mei 2016, George Papadopoulos, aliyekuwa...  \n",
       "4  Hata hivyo, kwa miaka mingi serikali ya Mareka...  "
      ]
     },
     "execution_count": 3,
     "metadata": {},
     "output_type": "execute_result"
    }
   ],
   "source": [
    "df1.head(5)"
   ]
  },
  {
   "cell_type": "code",
   "execution_count": 4,
   "id": "f706f6cc-2418-46de-9649-bee5624d00b5",
   "metadata": {},
   "outputs": [
    {
     "data": {
      "text/html": [
       "<div>\n",
       "<style scoped>\n",
       "    .dataframe tbody tr th:only-of-type {\n",
       "        vertical-align: middle;\n",
       "    }\n",
       "\n",
       "    .dataframe tbody tr th {\n",
       "        vertical-align: top;\n",
       "    }\n",
       "\n",
       "    .dataframe thead th {\n",
       "        text-align: right;\n",
       "    }\n",
       "</style>\n",
       "<table border=\"1\" class=\"dataframe\">\n",
       "  <thead>\n",
       "    <tr style=\"text-align: right;\">\n",
       "      <th></th>\n",
       "      <th>title</th>\n",
       "      <th>text</th>\n",
       "      <th>label</th>\n",
       "      <th>Unnamed: 3</th>\n",
       "      <th>translated_text</th>\n",
       "    </tr>\n",
       "  </thead>\n",
       "  <tbody>\n",
       "    <tr>\n",
       "      <th>0</th>\n",
       "      <td>Donald Trump Sends Out Embarrassing New Year’...</td>\n",
       "      <td>Donald Trump just couldn t wish all Americans ...</td>\n",
       "      <td>fake</td>\n",
       "      <td>NaN</td>\n",
       "      <td>Donald Trump angeweza tu kuwatakia Wamarekani ...</td>\n",
       "    </tr>\n",
       "    <tr>\n",
       "      <th>1</th>\n",
       "      <td>Drunk Bragging Trump Staffer Started Russian ...</td>\n",
       "      <td>House Intelligence Committee Chairman Devin Nu...</td>\n",
       "      <td>fake</td>\n",
       "      <td>NaN</td>\n",
       "      <td>Mwenyekiti wa Mambo ya Akili wa Bunge la Marek...</td>\n",
       "    </tr>\n",
       "    <tr>\n",
       "      <th>2</th>\n",
       "      <td>Sheriff David Clarke Becomes An Internet Joke...</td>\n",
       "      <td>On Friday, it was revealed that former Milwauk...</td>\n",
       "      <td>fake</td>\n",
       "      <td>NaN</td>\n",
       "      <td>Ijumaa, ilifunuliwa kwamba hapo awali Milwauke...</td>\n",
       "    </tr>\n",
       "    <tr>\n",
       "      <th>3</th>\n",
       "      <td>Trump Is So Obsessed He Even Has Obama’s Name...</td>\n",
       "      <td>On Christmas day, Donald Trump announced that ...</td>\n",
       "      <td>fake</td>\n",
       "      <td>NaN</td>\n",
       "      <td>Siku ya Krismasi, Donald Trump alitangaza kwam...</td>\n",
       "    </tr>\n",
       "    <tr>\n",
       "      <th>4</th>\n",
       "      <td>Pope Francis Just Called Out Donald Trump Dur...</td>\n",
       "      <td>Pope Francis used his annual Christmas Day mes...</td>\n",
       "      <td>fake</td>\n",
       "      <td>NaN</td>\n",
       "      <td>Kwa hiyo, Papa Francis alitumia ujumbe wake wa...</td>\n",
       "    </tr>\n",
       "  </tbody>\n",
       "</table>\n",
       "</div>"
      ],
      "text/plain": [
       "                                               title  \\\n",
       "0   Donald Trump Sends Out Embarrassing New Year’...   \n",
       "1   Drunk Bragging Trump Staffer Started Russian ...   \n",
       "2   Sheriff David Clarke Becomes An Internet Joke...   \n",
       "3   Trump Is So Obsessed He Even Has Obama’s Name...   \n",
       "4   Pope Francis Just Called Out Donald Trump Dur...   \n",
       "\n",
       "                                                text label  Unnamed: 3  \\\n",
       "0  Donald Trump just couldn t wish all Americans ...  fake         NaN   \n",
       "1  House Intelligence Committee Chairman Devin Nu...  fake         NaN   \n",
       "2  On Friday, it was revealed that former Milwauk...  fake         NaN   \n",
       "3  On Christmas day, Donald Trump announced that ...  fake         NaN   \n",
       "4  Pope Francis used his annual Christmas Day mes...  fake         NaN   \n",
       "\n",
       "                                     translated_text  \n",
       "0  Donald Trump angeweza tu kuwatakia Wamarekani ...  \n",
       "1  Mwenyekiti wa Mambo ya Akili wa Bunge la Marek...  \n",
       "2  Ijumaa, ilifunuliwa kwamba hapo awali Milwauke...  \n",
       "3  Siku ya Krismasi, Donald Trump alitangaza kwam...  \n",
       "4  Kwa hiyo, Papa Francis alitumia ujumbe wake wa...  "
      ]
     },
     "execution_count": 4,
     "metadata": {},
     "output_type": "execute_result"
    }
   ],
   "source": [
    "df2.head(5)"
   ]
  },
  {
   "cell_type": "code",
   "execution_count": 5,
   "id": "07cafc01-ac1d-49e5-aaf3-bd873b147e9c",
   "metadata": {},
   "outputs": [],
   "source": [
    "##getting reuired columns\n",
    "Swahili_Real_Newdata1=df1[[\"translated_text\"]]\n",
    "Swahili_Fake_Newdata1=df2[[\"translated_text\"]]"
   ]
  },
  {
   "cell_type": "code",
   "execution_count": 6,
   "id": "6cc805bc-663b-4eee-97e1-8c01bfd3b6e2",
   "metadata": {},
   "outputs": [
    {
     "data": {
      "text/html": [
       "<div>\n",
       "<style scoped>\n",
       "    .dataframe tbody tr th:only-of-type {\n",
       "        vertical-align: middle;\n",
       "    }\n",
       "\n",
       "    .dataframe tbody tr th {\n",
       "        vertical-align: top;\n",
       "    }\n",
       "\n",
       "    .dataframe thead th {\n",
       "        text-align: right;\n",
       "    }\n",
       "</style>\n",
       "<table border=\"1\" class=\"dataframe\">\n",
       "  <thead>\n",
       "    <tr style=\"text-align: right;\">\n",
       "      <th></th>\n",
       "      <th>translated_text</th>\n",
       "    </tr>\n",
       "  </thead>\n",
       "  <tbody>\n",
       "    <tr>\n",
       "      <th>0</th>\n",
       "      <td>MNAMO Julai 11 W.K., mwenyekiti wa kundi la wa...</td>\n",
       "    </tr>\n",
       "    <tr>\n",
       "      <th>1</th>\n",
       "      <td>ASEPPHingTON (Wasimamizi wa Serikali) - Transg...</td>\n",
       "    </tr>\n",
       "    <tr>\n",
       "      <th>2</th>\n",
       "      <td>YEHINGTON (Wasimamizi) - Uchunguzi wa kipekee ...</td>\n",
       "    </tr>\n",
       "    <tr>\n",
       "      <th>3</th>\n",
       "      <td>MNAMO Mei 2016, George Papadopoulos, aliyekuwa...</td>\n",
       "    </tr>\n",
       "    <tr>\n",
       "      <th>4</th>\n",
       "      <td>Hata hivyo, kwa miaka mingi serikali ya Mareka...</td>\n",
       "    </tr>\n",
       "  </tbody>\n",
       "</table>\n",
       "</div>"
      ],
      "text/plain": [
       "                                     translated_text\n",
       "0  MNAMO Julai 11 W.K., mwenyekiti wa kundi la wa...\n",
       "1  ASEPPHingTON (Wasimamizi wa Serikali) - Transg...\n",
       "2  YEHINGTON (Wasimamizi) - Uchunguzi wa kipekee ...\n",
       "3  MNAMO Mei 2016, George Papadopoulos, aliyekuwa...\n",
       "4  Hata hivyo, kwa miaka mingi serikali ya Mareka..."
      ]
     },
     "execution_count": 6,
     "metadata": {},
     "output_type": "execute_result"
    }
   ],
   "source": [
    "Swahili_Real_Newdata1.head(5)"
   ]
  },
  {
   "cell_type": "code",
   "execution_count": 7,
   "id": "a3663e03-410f-471e-bfda-23d78f032e6f",
   "metadata": {},
   "outputs": [
    {
     "data": {
      "text/html": [
       "<div>\n",
       "<style scoped>\n",
       "    .dataframe tbody tr th:only-of-type {\n",
       "        vertical-align: middle;\n",
       "    }\n",
       "\n",
       "    .dataframe tbody tr th {\n",
       "        vertical-align: top;\n",
       "    }\n",
       "\n",
       "    .dataframe thead th {\n",
       "        text-align: right;\n",
       "    }\n",
       "</style>\n",
       "<table border=\"1\" class=\"dataframe\">\n",
       "  <thead>\n",
       "    <tr style=\"text-align: right;\">\n",
       "      <th></th>\n",
       "      <th>translated_text</th>\n",
       "    </tr>\n",
       "  </thead>\n",
       "  <tbody>\n",
       "    <tr>\n",
       "      <th>0</th>\n",
       "      <td>Donald Trump angeweza tu kuwatakia Wamarekani ...</td>\n",
       "    </tr>\n",
       "    <tr>\n",
       "      <th>1</th>\n",
       "      <td>Mwenyekiti wa Mambo ya Akili wa Bunge la Marek...</td>\n",
       "    </tr>\n",
       "    <tr>\n",
       "      <th>2</th>\n",
       "      <td>Ijumaa, ilifunuliwa kwamba hapo awali Milwauke...</td>\n",
       "    </tr>\n",
       "    <tr>\n",
       "      <th>3</th>\n",
       "      <td>Siku ya Krismasi, Donald Trump alitangaza kwam...</td>\n",
       "    </tr>\n",
       "    <tr>\n",
       "      <th>4</th>\n",
       "      <td>Kwa hiyo, Papa Francis alitumia ujumbe wake wa...</td>\n",
       "    </tr>\n",
       "  </tbody>\n",
       "</table>\n",
       "</div>"
      ],
      "text/plain": [
       "                                     translated_text\n",
       "0  Donald Trump angeweza tu kuwatakia Wamarekani ...\n",
       "1  Mwenyekiti wa Mambo ya Akili wa Bunge la Marek...\n",
       "2  Ijumaa, ilifunuliwa kwamba hapo awali Milwauke...\n",
       "3  Siku ya Krismasi, Donald Trump alitangaza kwam...\n",
       "4  Kwa hiyo, Papa Francis alitumia ujumbe wake wa..."
      ]
     },
     "execution_count": 7,
     "metadata": {},
     "output_type": "execute_result"
    }
   ],
   "source": [
    "Swahili_Fake_Newdata1.head(5)"
   ]
  },
  {
   "cell_type": "code",
   "execution_count": 8,
   "id": "42773092-5fe3-464f-a9ad-bb3b94c1001c",
   "metadata": {},
   "outputs": [
    {
     "name": "stderr",
     "output_type": "stream",
     "text": [
      "C:\\Users\\Masini\\AppData\\Local\\Temp\\ipykernel_12616\\2634488947.py:2: SettingWithCopyWarning: \n",
      "A value is trying to be set on a copy of a slice from a DataFrame.\n",
      "Try using .loc[row_indexer,col_indexer] = value instead\n",
      "\n",
      "See the caveats in the documentation: https://pandas.pydata.org/pandas-docs/stable/user_guide/indexing.html#returning-a-view-versus-a-copy\n",
      "  Swahili_Real_Newdata1[\"class\"]=1\n",
      "C:\\Users\\Masini\\AppData\\Local\\Temp\\ipykernel_12616\\2634488947.py:3: SettingWithCopyWarning: \n",
      "A value is trying to be set on a copy of a slice from a DataFrame.\n",
      "Try using .loc[row_indexer,col_indexer] = value instead\n",
      "\n",
      "See the caveats in the documentation: https://pandas.pydata.org/pandas-docs/stable/user_guide/indexing.html#returning-a-view-versus-a-copy\n",
      "  Swahili_Fake_Newdata1[\"class\"]=0\n"
     ]
    }
   ],
   "source": [
    "##adding classification column\n",
    "Swahili_Real_Newdata1[\"class\"]=1\n",
    "Swahili_Fake_Newdata1[\"class\"]=0"
   ]
  },
  {
   "cell_type": "code",
   "execution_count": 9,
   "id": "a86ed729-3904-4748-9764-f18adf7df89f",
   "metadata": {},
   "outputs": [
    {
     "data": {
      "text/html": [
       "<div>\n",
       "<style scoped>\n",
       "    .dataframe tbody tr th:only-of-type {\n",
       "        vertical-align: middle;\n",
       "    }\n",
       "\n",
       "    .dataframe tbody tr th {\n",
       "        vertical-align: top;\n",
       "    }\n",
       "\n",
       "    .dataframe thead th {\n",
       "        text-align: right;\n",
       "    }\n",
       "</style>\n",
       "<table border=\"1\" class=\"dataframe\">\n",
       "  <thead>\n",
       "    <tr style=\"text-align: right;\">\n",
       "      <th></th>\n",
       "      <th>translated_text</th>\n",
       "      <th>class</th>\n",
       "    </tr>\n",
       "  </thead>\n",
       "  <tbody>\n",
       "    <tr>\n",
       "      <th>0</th>\n",
       "      <td>MNAMO Julai 11 W.K., mwenyekiti wa kundi la wa...</td>\n",
       "      <td>1</td>\n",
       "    </tr>\n",
       "    <tr>\n",
       "      <th>1</th>\n",
       "      <td>ASEPPHingTON (Wasimamizi wa Serikali) - Transg...</td>\n",
       "      <td>1</td>\n",
       "    </tr>\n",
       "    <tr>\n",
       "      <th>2</th>\n",
       "      <td>YEHINGTON (Wasimamizi) - Uchunguzi wa kipekee ...</td>\n",
       "      <td>1</td>\n",
       "    </tr>\n",
       "    <tr>\n",
       "      <th>3</th>\n",
       "      <td>MNAMO Mei 2016, George Papadopoulos, aliyekuwa...</td>\n",
       "      <td>1</td>\n",
       "    </tr>\n",
       "    <tr>\n",
       "      <th>4</th>\n",
       "      <td>Hata hivyo, kwa miaka mingi serikali ya Mareka...</td>\n",
       "      <td>1</td>\n",
       "    </tr>\n",
       "  </tbody>\n",
       "</table>\n",
       "</div>"
      ],
      "text/plain": [
       "                                     translated_text  class\n",
       "0  MNAMO Julai 11 W.K., mwenyekiti wa kundi la wa...      1\n",
       "1  ASEPPHingTON (Wasimamizi wa Serikali) - Transg...      1\n",
       "2  YEHINGTON (Wasimamizi) - Uchunguzi wa kipekee ...      1\n",
       "3  MNAMO Mei 2016, George Papadopoulos, aliyekuwa...      1\n",
       "4  Hata hivyo, kwa miaka mingi serikali ya Mareka...      1"
      ]
     },
     "execution_count": 9,
     "metadata": {},
     "output_type": "execute_result"
    }
   ],
   "source": [
    "Swahili_Real_Newdata1.head(5)"
   ]
  },
  {
   "cell_type": "code",
   "execution_count": 10,
   "id": "3c27b528-da8a-49c7-af83-303b75c712b9",
   "metadata": {},
   "outputs": [],
   "source": [
    "##merge the datasets\n",
    "df=pd.concat([Swahili_Real_Newdata1,Swahili_Fake_Newdata1],axis=0)"
   ]
  },
  {
   "cell_type": "code",
   "execution_count": 11,
   "id": "94052c21-05bd-48c4-b8e5-9641b588fc48",
   "metadata": {},
   "outputs": [],
   "source": [
    "##reshuffle the dataset\n",
    "df=df.sample(frac=1)"
   ]
  },
  {
   "cell_type": "code",
   "execution_count": 12,
   "id": "1be9ab98-b357-4332-864b-cede2dfb878c",
   "metadata": {},
   "outputs": [
    {
     "data": {
      "text/html": [
       "<div>\n",
       "<style scoped>\n",
       "    .dataframe tbody tr th:only-of-type {\n",
       "        vertical-align: middle;\n",
       "    }\n",
       "\n",
       "    .dataframe tbody tr th {\n",
       "        vertical-align: top;\n",
       "    }\n",
       "\n",
       "    .dataframe thead th {\n",
       "        text-align: right;\n",
       "    }\n",
       "</style>\n",
       "<table border=\"1\" class=\"dataframe\">\n",
       "  <thead>\n",
       "    <tr style=\"text-align: right;\">\n",
       "      <th></th>\n",
       "      <th>translated_text</th>\n",
       "      <th>class</th>\n",
       "    </tr>\n",
       "  </thead>\n",
       "  <tbody>\n",
       "    <tr>\n",
       "      <th>9108</th>\n",
       "      <td>NaN</td>\n",
       "      <td>1</td>\n",
       "    </tr>\n",
       "    <tr>\n",
       "      <th>4561</th>\n",
       "      <td>Katika jiji la Flent, Michigan anapatwa na msi...</td>\n",
       "      <td>0</td>\n",
       "    </tr>\n",
       "    <tr>\n",
       "      <th>6693</th>\n",
       "      <td>NaN</td>\n",
       "      <td>1</td>\n",
       "    </tr>\n",
       "    <tr>\n",
       "      <th>2034</th>\n",
       "      <td>NaN</td>\n",
       "      <td>1</td>\n",
       "    </tr>\n",
       "    <tr>\n",
       "      <th>3029</th>\n",
       "      <td>Msichana mmoja mwenye msimamo mkali Tomi Lahre...</td>\n",
       "      <td>0</td>\n",
       "    </tr>\n",
       "    <tr>\n",
       "      <th>9760</th>\n",
       "      <td>NaN</td>\n",
       "      <td>1</td>\n",
       "    </tr>\n",
       "    <tr>\n",
       "      <th>16334</th>\n",
       "      <td>NaN</td>\n",
       "      <td>0</td>\n",
       "    </tr>\n",
       "    <tr>\n",
       "      <th>9078</th>\n",
       "      <td>NaN</td>\n",
       "      <td>0</td>\n",
       "    </tr>\n",
       "    <tr>\n",
       "      <th>10082</th>\n",
       "      <td>NaN</td>\n",
       "      <td>0</td>\n",
       "    </tr>\n",
       "    <tr>\n",
       "      <th>17908</th>\n",
       "      <td>NaN</td>\n",
       "      <td>0</td>\n",
       "    </tr>\n",
       "  </tbody>\n",
       "</table>\n",
       "</div>"
      ],
      "text/plain": [
       "                                         translated_text  class\n",
       "9108                                                 NaN      1\n",
       "4561   Katika jiji la Flent, Michigan anapatwa na msi...      0\n",
       "6693                                                 NaN      1\n",
       "2034                                                 NaN      1\n",
       "3029   Msichana mmoja mwenye msimamo mkali Tomi Lahre...      0\n",
       "9760                                                 NaN      1\n",
       "16334                                                NaN      0\n",
       "9078                                                 NaN      0\n",
       "10082                                                NaN      0\n",
       "17908                                                NaN      0"
      ]
     },
     "execution_count": 12,
     "metadata": {},
     "output_type": "execute_result"
    }
   ],
   "source": [
    "df.head(10)"
   ]
  },
  {
   "cell_type": "code",
   "execution_count": 13,
   "id": "92af61f5-a8a0-4aed-a2b7-d7c7f8e540e2",
   "metadata": {},
   "outputs": [],
   "source": [
    "# Remove rows with missing values\n",
    "df = df.dropna()\n",
    "\n",
    "\n",
    "# Save the cleaned dataset (optional)\n",
    "#df.to_csv(\"swahili_fake_news_cleaned.csv\", index=False)\n"
   ]
  },
  {
   "cell_type": "code",
   "execution_count": 14,
   "id": "b25400fc-066d-48c0-9a54-543d1f7bad0c",
   "metadata": {},
   "outputs": [
    {
     "data": {
      "text/html": [
       "<div>\n",
       "<style scoped>\n",
       "    .dataframe tbody tr th:only-of-type {\n",
       "        vertical-align: middle;\n",
       "    }\n",
       "\n",
       "    .dataframe tbody tr th {\n",
       "        vertical-align: top;\n",
       "    }\n",
       "\n",
       "    .dataframe thead th {\n",
       "        text-align: right;\n",
       "    }\n",
       "</style>\n",
       "<table border=\"1\" class=\"dataframe\">\n",
       "  <thead>\n",
       "    <tr style=\"text-align: right;\">\n",
       "      <th></th>\n",
       "      <th>translated_text</th>\n",
       "      <th>class</th>\n",
       "    </tr>\n",
       "  </thead>\n",
       "  <tbody>\n",
       "    <tr>\n",
       "      <th>4561</th>\n",
       "      <td>Katika jiji la Flent, Michigan anapatwa na msi...</td>\n",
       "      <td>0</td>\n",
       "    </tr>\n",
       "    <tr>\n",
       "      <th>3029</th>\n",
       "      <td>Msichana mmoja mwenye msimamo mkali Tomi Lahre...</td>\n",
       "      <td>0</td>\n",
       "    </tr>\n",
       "    <tr>\n",
       "      <th>937</th>\n",
       "      <td>YEHINGTON (Routers) - Dreder Republicans in th...</td>\n",
       "      <td>1</td>\n",
       "    </tr>\n",
       "    <tr>\n",
       "      <th>1332</th>\n",
       "      <td>NEW YORK (Ukataji) - Rais wa U.S. Donald Trump...</td>\n",
       "      <td>1</td>\n",
       "    </tr>\n",
       "    <tr>\n",
       "      <th>1278</th>\n",
       "      <td>Donald Trump amekuwa madarakani kwa miezi kadh...</td>\n",
       "      <td>0</td>\n",
       "    </tr>\n",
       "    <tr>\n",
       "      <th>1737</th>\n",
       "      <td>AYHINGTON (Routers) - Idara ya Sheria ya U.S. ...</td>\n",
       "      <td>1</td>\n",
       "    </tr>\n",
       "    <tr>\n",
       "      <th>3262</th>\n",
       "      <td>Donald Trump anahitaji kuacha kupiga kelele ka...</td>\n",
       "      <td>0</td>\n",
       "    </tr>\n",
       "    <tr>\n",
       "      <th>717</th>\n",
       "      <td>Donald Trump s White House amekuwa akipitia ma...</td>\n",
       "      <td>0</td>\n",
       "    </tr>\n",
       "    <tr>\n",
       "      <th>4690</th>\n",
       "      <td>Wakati wa mahojiano juu ya MSNBC sddice pamoja...</td>\n",
       "      <td>0</td>\n",
       "    </tr>\n",
       "    <tr>\n",
       "      <th>3586</th>\n",
       "      <td>Katika kipindi cha miaka 18 iliyopita, vijana ...</td>\n",
       "      <td>0</td>\n",
       "    </tr>\n",
       "  </tbody>\n",
       "</table>\n",
       "</div>"
      ],
      "text/plain": [
       "                                        translated_text  class\n",
       "4561  Katika jiji la Flent, Michigan anapatwa na msi...      0\n",
       "3029  Msichana mmoja mwenye msimamo mkali Tomi Lahre...      0\n",
       "937   YEHINGTON (Routers) - Dreder Republicans in th...      1\n",
       "1332  NEW YORK (Ukataji) - Rais wa U.S. Donald Trump...      1\n",
       "1278  Donald Trump amekuwa madarakani kwa miezi kadh...      0\n",
       "1737  AYHINGTON (Routers) - Idara ya Sheria ya U.S. ...      1\n",
       "3262  Donald Trump anahitaji kuacha kupiga kelele ka...      0\n",
       "717   Donald Trump s White House amekuwa akipitia ma...      0\n",
       "4690  Wakati wa mahojiano juu ya MSNBC sddice pamoja...      0\n",
       "3586  Katika kipindi cha miaka 18 iliyopita, vijana ...      0"
      ]
     },
     "execution_count": 14,
     "metadata": {},
     "output_type": "execute_result"
    }
   ],
   "source": [
    "df.head(10)"
   ]
  },
  {
   "cell_type": "markdown",
   "id": "e02d54f3-ccc0-4cde-94ef-00011c7752a9",
   "metadata": {},
   "source": [
    "from transformers import AutoTokenizer, AutoModel\n",
    "import torch\n",
    "\n",
    "tokenizer = AutoTokenizer.from_pretrained(\"castorini/afriberta_large\")\n",
    "model = AutoModel.from_pretrained(\"castorini/afriberta_large\")\n",
    "\n",
    "# Function for generating embeddings from AfriBERTa\n",
    "def get_embeddings(text):\n",
    "    tokens = tokenizer(text, return_tensors=\"pt\", padding=True, truncation=True)\n",
    "    with torch.no_grad():\n",
    "        embeddings = model(**tokens).last_hidden_state.mean(dim=1)  # Extracting embeddings\n",
    "    return embeddings\n",
    "\n",
    "print(\"Model loaded successfully!\")\n"
   ]
  },
  {
   "cell_type": "markdown",
   "id": "432fc000-e2ac-4e5c-ac51-68718954e7fa",
   "metadata": {},
   "source": [
    "# Splitting the data into features (text) and labels (class)\n",
    "X = df['translated_text'].dropna().tolist()  # Removing null values and converting to list\n",
    "y = df['class']  # Classification labels\n",
    "\n",
    "# Splitting dataset into training and testing sets\n",
    "X_train, X_test, y_train, y_test = train_test_split(X, y, test_size=0.15, random_state=42)\n",
    "\n",
    "# Function to generate embeddings \n",
    "def get_embeddings(text):\n",
    "    if not isinstance(text, str) or text.strip() == \"\":  \n",
    "        return torch.zeros(1, 1024)  # Return a zero vector if text is empty\n",
    "\n",
    "    tokens = tokenizer(\n",
    "        text, return_tensors=\"pt\", padding=\"max_length\", truncation=True, max_length=512\n",
    "    )  # Ensuring truncation\n",
    "\n",
    "    with torch.no_grad():\n",
    "        embeddings = model(**tokens).last_hidden_state.mean(dim=1)\n",
    "    \n",
    "    return embeddings\n",
    "\n",
    "# Generating embeddings for training and testing data in batches\n",
    "X_train_emb = torch.cat([get_embeddings(text) for text in X_train]).numpy()  # Convert to NumPy\n",
    "X_test_emb = torch.cat([get_embeddings(text) for text in X_test]).numpy()    # Convert to NumPy\n",
    "\n",
    "# Training Random Forest classifier\n",
    "clf = RandomForestClassifier(n_estimators=100, random_state=42)\n",
    "clf.fit(X_train_emb, y_train)\n",
    "\n",
    "# Predicting labels for the testing data\n",
    "y_pred = clf.predict(X_test_emb)\n",
    "\n",
    "# Displaying success message\n",
    "print(\"Fake news classification in Swahili is complete!\")  \n"
   ]
  },
  {
   "cell_type": "code",
   "execution_count": 15,
   "id": "31870644-1256-40ef-8920-0ef8c9b4943e",
   "metadata": {},
   "outputs": [],
   "source": [
    "from sklearn.pipeline import Pipeline\n",
    "from sklearn.ensemble import RandomForestClassifier\n",
    "from sklearn.feature_extraction.text import TfidfVectorizer\n",
    "\n",
    "# Split the data into features text and labels\n",
    "X = df['translated_text']\n",
    "y = df['class']\n",
    "\n",
    "# Splitting the dataset into training and testing sets\n",
    "X_train, X_test, y_train, y_test = train_test_split(X, y, test_size=0.15, random_state=42)\n",
    "\n",
    "# Define the pipeline\n",
    "pipeline = Pipeline([\n",
    "    ('tfidf', TfidfVectorizer()),  # Text vectorization(perfoms text cleaning)\n",
    "    ('clf', RandomForestClassifier())  # Random Forest classifier\n",
    "])\n",
    "\n",
    "# Fit the pipeline to the training data\n",
    "pipeline.fit(X_train, y_train)\n",
    "\n",
    "# Predict labels for the testing data\n",
    "y_pred = pipeline.predict(X_test)"
   ]
  },
  {
   "cell_type": "code",
   "execution_count": 16,
   "id": "e475dff5-fcbb-4090-89d6-b6a95bb00781",
   "metadata": {},
   "outputs": [
    {
     "name": "stdout",
     "output_type": "stream",
     "text": [
      "Accuracy: 0.9471007121057986\n"
     ]
    }
   ],
   "source": [
    "##evaluatng the model\n",
    "from sklearn.metrics import accuracy_score,classification_report,confusion_matrix\n",
    "accuracy = accuracy_score(y_test, y_pred)\n",
    "print(\"Accuracy:\", accuracy)"
   ]
  },
  {
   "cell_type": "code",
   "execution_count": 17,
   "id": "fa620562-b187-477e-808e-2875bf0b8735",
   "metadata": {},
   "outputs": [
    {
     "name": "stdout",
     "output_type": "stream",
     "text": [
      "[[697   4]\n",
      " [ 48 234]]\n"
     ]
    }
   ],
   "source": [
    "print(confusion_matrix(y_test,y_pred))"
   ]
  },
  {
   "cell_type": "code",
   "execution_count": 18,
   "id": "8e8575b3-9aa7-4362-9353-72d43bc573a6",
   "metadata": {},
   "outputs": [
    {
     "name": "stdout",
     "output_type": "stream",
     "text": [
      "[0]\n"
     ]
    }
   ],
   "source": [
    "text = \"\"\"Ikiwa Donald Trump anashikilia msimamo wake kuhusu mauaji ya Wayahudi, lakini sasa anapaswa kuwa na maoni yasiyofaa kuhusu mauaji ya Wayahudi na ya Syria.\n",
    "\"\"\"\n",
    "\n",
    "prediction = pipeline.predict([text])\n",
    "print(prediction)\n"
   ]
  },
  {
   "cell_type": "code",
   "execution_count": 19,
   "id": "f5b479b0-65af-4608-bf7d-86c83d2c9b73",
   "metadata": {},
   "outputs": [
    {
     "name": "stdout",
     "output_type": "stream",
     "text": [
      "[0]\n"
     ]
    }
   ],
   "source": [
    "text = \"\"\"BRASILIA (Reuters) - Brazilian President Michel Temer, shortly after being hit with fresh graft charges on Thursday, said in a written statement that the nation s top prosecutor is on an  irresponsible campaign  of making allegations to cover his own failures.  Temer was charged by Prosecutor General Rodrigo Janot with obstruction of justice and racketeering based on the plea-bargain testimony of the owners of the world s largest meatpacker, JBS SA. They accused Temer of taking bribes in return for political favors and of conspiring to buy the silence of a witness who could implicate the president. \n",
    "\"\"\"\n",
    "\n",
    "prediction = pipeline.predict([text])\n",
    "print(prediction)\n"
   ]
  },
  {
   "cell_type": "markdown",
   "id": "e7e14cfb-7bd9-457b-aba2-18f50e94feb0",
   "metadata": {},
   "source": [
    "MISCALLISIFIED TEXT\n",
    "THE ABOVE NEWS FALLS UNDER FP(TRUE NEWS CLASSIFIED AS FAKE)"
   ]
  },
  {
   "cell_type": "code",
   "execution_count": 24,
   "id": "57845893-5e0b-4c8c-ae8e-31755002e2b5",
   "metadata": {},
   "outputs": [
    {
     "name": "stdout",
     "output_type": "stream",
     "text": [
      "[1]\n"
     ]
    }
   ],
   "source": [
    "text = \"\"\"MYHINGTON (Watangazaji wa bajeti) - Kikosi cha Seneti cha Marekani John Coryn kilisema siku ya Jumatano kwamba Republicans inaonekana kuwa na kura za kutosha kupitisha bajeti ambayo ni muhimu kwa Rais Donald Trump Espents lengo la kutunga sheria ya marekebisho ya kodi kabla ya Januari.\"\"\"\n",
    "\n",
    "prediction = pipeline.predict([text])\n",
    "print(prediction)\n"
   ]
  },
  {
   "cell_type": "code",
   "execution_count": null,
   "id": "5ec52403-4120-4779-80be-f45f879b9d07",
   "metadata": {},
   "outputs": [],
   "source": []
  }
 ],
 "metadata": {
  "kernelspec": {
   "display_name": "Python 3 (ipykernel)",
   "language": "python",
   "name": "python3"
  },
  "language_info": {
   "codemirror_mode": {
    "name": "ipython",
    "version": 3
   },
   "file_extension": ".py",
   "mimetype": "text/x-python",
   "name": "python",
   "nbconvert_exporter": "python",
   "pygments_lexer": "ipython3",
   "version": "3.12.7"
  }
 },
 "nbformat": 4,
 "nbformat_minor": 5
}
